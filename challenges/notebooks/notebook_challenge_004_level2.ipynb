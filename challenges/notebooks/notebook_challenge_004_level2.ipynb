{
  "cells": [
    {
      "cell_type": "markdown",
      "id": "160bbfb2",
      "metadata": {
        "id": "160bbfb2"
      },
      "source": [
        "\n",
        "# Por favor tente resolver o desafio sozinho, não pegue atalhos, tu consegue, é só colocar a cabeça para funcionar."
      ]
    },
    {
      "cell_type": "markdown",
      "id": "e0e85531",
      "metadata": {
        "id": "e0e85531"
      },
      "source": [
        "Execute a célula abaixo apenas uma vez."
      ]
    },
    {
      "cell_type": "code",
      "execution_count": 2,
      "id": "7d725090",
      "metadata": {
        "id": "7d725090",
        "outputId": "08d51660-e717-4e83-e743-c00fdb1f0ce5",
        "colab": {
          "base_uri": "https://localhost:8080/"
        }
      },
      "outputs": [
        {
          "output_type": "stream",
          "name": "stderr",
          "text": [
            "Cloning into '30-day-challenges-with-sql'...\n"
          ]
        }
      ],
      "source": [
        "%%bash\n",
        "\n",
        "rm -rf /tmp/github; mkdir -p /tmp/github; cd /tmp/github\n",
        "git clone https://github.com/romeritomorais/30-day-challenges-with-sql.git\n",
        "sh /tmp/github/30-day-challenges-with-sql/challenges/utils/install-miniconda.sh > /dev/null 2>&1\n",
        "sh /tmp/github/30-day-challenges-with-sql/challenges/utils/update-miniconda.sh > /dev/null 2>&1"
      ]
    },
    {
      "cell_type": "markdown",
      "id": "467f1c4a",
      "metadata": {
        "id": "467f1c4a"
      },
      "source": [
        "Neste desafio precisamos dos valores numéricos inteiros contidos na coluna `Customer.PostalCode`, que possuam 8 caracteres.\n",
        "\n",
        "resultado esperado:  \n",
        "\n",
        "|CustomerId|Address                        |State|Country|Postal_Code\n",
        "|----------:|------------------------------:|----:|------:|----------\n",
        "|         1|Av. Brigadeiro Faria Lima, 2170|SP   |Brazil |   12227000\n",
        "|        12|Praça Pio X, 119               |RJ   |Brazil |   20040020\n",
        "|        13|Qe 7 Bloco G                   |DF   |Brazil |   71020677\n",
        "|        20|541 Del Medio Avenue           |CA   |USA    |   94040111\n",
        "\n",
        "Na célula onde se encontra o `%%sql`, escreva sua query, sem deletar o comando. Exemplo:  \n",
        "```python\n",
        "%%sql\n",
        "select * from Customer\n",
        "```\n",
        "\n",
        "Para resolução utilize a documentação do sqlite:https://www.sqlite.org/docs.html"
      ]
    },
    {
      "cell_type": "code",
      "execution_count": 3,
      "id": "981a5488",
      "metadata": {
        "id": "981a5488",
        "outputId": "097f038f-5d70-4cd1-f60d-d7994bbcbeac",
        "colab": {
          "base_uri": "https://localhost:8080/",
          "height": 35
        }
      },
      "outputs": [
        {
          "output_type": "execute_result",
          "data": {
            "text/plain": [
              "'Connected: @//tmp/github/30-day-challenges-with-sql/challenges/utils/db/database.db'"
            ],
            "application/vnd.google.colaboratory.intrinsic+json": {
              "type": "string"
            }
          },
          "metadata": {},
          "execution_count": 3
        }
      ],
      "source": [
        "%load_ext sql\n",
        "%sql sqlite://///tmp/github/30-day-challenges-with-sql/challenges/utils/db/database.db"
      ]
    },
    {
      "cell_type": "code",
      "execution_count": 15,
      "id": "275157e9",
      "metadata": {
        "id": "275157e9",
        "outputId": "3e924de6-c4e6-4bce-a154-aa7c102b6eab",
        "colab": {
          "base_uri": "https://localhost:8080/",
          "height": 161
        }
      },
      "outputs": [
        {
          "output_type": "stream",
          "name": "stdout",
          "text": [
            " * sqlite://///tmp/github/30-day-challenges-with-sql/challenges/utils/db/database.db\n",
            "Done.\n"
          ]
        },
        {
          "output_type": "execute_result",
          "data": {
            "text/plain": [
              "[(1, 'Av. Brigadeiro Faria Lima, 2170', 'SP', 'Brazil', 12227000),\n",
              " (12, 'Praça Pio X, 119', 'RJ', 'Brazil', 20040020),\n",
              " (13, 'Qe 7 Bloco G', 'DF', 'Brazil', 71020677),\n",
              " (20, '541 Del Medio Avenue', 'CA', 'USA', 94040111)]"
            ],
            "text/html": [
              "<table>\n",
              "    <thead>\n",
              "        <tr>\n",
              "            <th>CustomerId</th>\n",
              "            <th>Address</th>\n",
              "            <th>State</th>\n",
              "            <th>Country</th>\n",
              "            <th>Postal_Code</th>\n",
              "        </tr>\n",
              "    </thead>\n",
              "    <tbody>\n",
              "        <tr>\n",
              "            <td>1</td>\n",
              "            <td>Av. Brigadeiro Faria Lima, 2170</td>\n",
              "            <td>SP</td>\n",
              "            <td>Brazil</td>\n",
              "            <td>12227000</td>\n",
              "        </tr>\n",
              "        <tr>\n",
              "            <td>12</td>\n",
              "            <td>Praça Pio X, 119</td>\n",
              "            <td>RJ</td>\n",
              "            <td>Brazil</td>\n",
              "            <td>20040020</td>\n",
              "        </tr>\n",
              "        <tr>\n",
              "            <td>13</td>\n",
              "            <td>Qe 7 Bloco G</td>\n",
              "            <td>DF</td>\n",
              "            <td>Brazil</td>\n",
              "            <td>71020677</td>\n",
              "        </tr>\n",
              "        <tr>\n",
              "            <td>20</td>\n",
              "            <td>541 Del Medio Avenue</td>\n",
              "            <td>CA</td>\n",
              "            <td>USA</td>\n",
              "            <td>94040111</td>\n",
              "        </tr>\n",
              "    </tbody>\n",
              "</table>"
            ]
          },
          "metadata": {},
          "execution_count": 15
        }
      ],
      "source": [
        "# Utilizada a função REPLACE para remover os caracteres \"-\", CAST para converter os valores para INTEIRO, \n",
        "# No WHERE foi utilizado o LENGTH para retornar apenas Códigos que contém 8 caracteres.\n",
        "%%sql\n",
        "SELECT CustomerId, Address, State, Country, CAST(REPLACE(PostalCode, \"-\", \"\") AS INTEGER) AS Postal_Code\n",
        "FROM Customer \n",
        "WHERE LENGTH(Postal_Code) = 8;"
      ]
    },
    {
      "cell_type": "code",
      "source": [
        ""
      ],
      "metadata": {
        "id": "KjWeWTIL7GzT"
      },
      "id": "KjWeWTIL7GzT",
      "execution_count": null,
      "outputs": []
    }
  ],
  "metadata": {
    "kernelspec": {
      "display_name": "Python 3 (ipykernel)",
      "language": "python",
      "name": "python3"
    },
    "language_info": {
      "codemirror_mode": {
        "name": "ipython",
        "version": 3
      },
      "file_extension": ".py",
      "mimetype": "text/x-python",
      "name": "python",
      "nbconvert_exporter": "python",
      "pygments_lexer": "ipython3",
      "version": "3.7.9"
    },
    "colab": {
      "name": "notebook_challenge_004_level2.ipynb",
      "provenance": []
    }
  },
  "nbformat": 4,
  "nbformat_minor": 5
}