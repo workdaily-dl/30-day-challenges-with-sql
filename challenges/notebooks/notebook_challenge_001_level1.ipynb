{
  "cells": [
    {
      "cell_type": "markdown",
      "id": "bc8a16a6",
      "metadata": {
        "id": "bc8a16a6"
      },
      "source": [
        "\n",
        "# Por favor tente resolver o desafio sozinho, não pegue atalhos, tu consegue, é só colocar a cabeça para funcionar."
      ]
    },
    {
      "cell_type": "markdown",
      "id": "4ffaa676",
      "metadata": {
        "id": "4ffaa676"
      },
      "source": [
        "Execute a célula abaixo apenas uma vez."
      ]
    },
    {
      "cell_type": "code",
      "execution_count": 1,
      "id": "b2be889b",
      "metadata": {
        "id": "b2be889b",
        "outputId": "474475c6-4956-4fbd-fd06-a29a2722843c",
        "colab": {
          "base_uri": "https://localhost:8080/"
        }
      },
      "outputs": [
        {
          "output_type": "stream",
          "name": "stderr",
          "text": [
            "Cloning into '30-day-challenges-with-sql'...\n"
          ]
        }
      ],
      "source": [
        "%%bash\n",
        "\n",
        "rm -rf /tmp/github; mkdir -p /tmp/github; cd /tmp/github\n",
        "git clone https://github.com/romeritomorais/30-day-challenges-with-sql.git\n",
        "sh /tmp/github/30-day-challenges-with-sql/challenges/utils/install-miniconda.sh > /dev/null 2>&1\n",
        "sh /tmp/github/30-day-challenges-with-sql/challenges/utils/update-miniconda.sh > /dev/null 2>&1"
      ]
    },
    {
      "cell_type": "markdown",
      "id": "7b62dd5e",
      "metadata": {
        "id": "7b62dd5e"
      },
      "source": [
        "Neste primeiro desafio super fácil, precisamos apenas dos registros do campo `Email` da tabela Customers onde o domínio seja da `apple`.\n",
        "Crie uma query que retorne esse resultado e escreva uma breve explicação do código implementado:\n",
        "\n",
        "\n",
        "Resultado esperado:  \n",
        "\n",
        "Email |\n",
        "-|\n",
        "astrid.gruber@apple.at| \n",
        "daan_peeters@apple.be| \n",
        "tgoyer@apple.com| \n",
        "isabelle_mercier@apple.fr| \n",
        "terhi.hamalainen@apple.fi| \n",
        "ladislav_kovacs@apple.hu| \n",
        "hughoreilly@apple.ie| \n",
        "\n",
        "Na célula onde se encontra o `%%sql`, escreva sua query, sem deletar o comando. Exemplo:  \n",
        "```python\n",
        "%%sql\n",
        "select * from Customer\n",
        "```\n",
        "\n",
        "Para resolução utilize a documentação do sqlite:https://www.sqlite.org/docs.html"
      ]
    },
    {
      "cell_type": "code",
      "execution_count": 2,
      "id": "78b7cbdc",
      "metadata": {
        "id": "78b7cbdc",
        "outputId": "a93ecfa7-c2dd-488a-a28b-1fb2d548f945",
        "colab": {
          "base_uri": "https://localhost:8080/",
          "height": 35
        }
      },
      "outputs": [
        {
          "output_type": "execute_result",
          "data": {
            "text/plain": [
              "'Connected: @//tmp/github/30-day-challenges-with-sql/challenges/utils/db/database.db'"
            ],
            "application/vnd.google.colaboratory.intrinsic+json": {
              "type": "string"
            }
          },
          "metadata": {},
          "execution_count": 2
        }
      ],
      "source": [
        "%load_ext sql\n",
        "%sql sqlite://///tmp/github/30-day-challenges-with-sql/challenges/utils/db/database.db"
      ]
    },
    {
      "cell_type": "markdown",
      "id": "be967233",
      "metadata": {
        "id": "be967233"
      },
      "source": [
        "explicação da implementação do código\n",
        "...."
      ]
    },
    {
      "cell_type": "code",
      "execution_count": 5,
      "id": "4aba4071",
      "metadata": {
        "id": "4aba4071",
        "outputId": "8992b024-63a6-415f-abca-5d48d0466ea6",
        "colab": {
          "base_uri": "https://localhost:8080/",
          "height": 225
        }
      },
      "outputs": [
        {
          "output_type": "stream",
          "name": "stdout",
          "text": [
            " * sqlite://///tmp/github/30-day-challenges-with-sql/challenges/utils/db/database.db\n",
            "Done.\n"
          ]
        },
        {
          "output_type": "execute_result",
          "data": {
            "text/plain": [
              "[('astrid.gruber@apple.at',),\n",
              " ('daan_peeters@apple.be',),\n",
              " ('tgoyer@apple.com',),\n",
              " ('isabelle_mercier@apple.fr',),\n",
              " ('terhi.hamalainen@apple.fi',),\n",
              " ('ladislav_kovacs@apple.hu',),\n",
              " ('hughoreilly@apple.ie',)]"
            ],
            "text/html": [
              "<table>\n",
              "    <thead>\n",
              "        <tr>\n",
              "            <th>Email</th>\n",
              "        </tr>\n",
              "    </thead>\n",
              "    <tbody>\n",
              "        <tr>\n",
              "            <td>astrid.gruber@apple.at</td>\n",
              "        </tr>\n",
              "        <tr>\n",
              "            <td>daan_peeters@apple.be</td>\n",
              "        </tr>\n",
              "        <tr>\n",
              "            <td>tgoyer@apple.com</td>\n",
              "        </tr>\n",
              "        <tr>\n",
              "            <td>isabelle_mercier@apple.fr</td>\n",
              "        </tr>\n",
              "        <tr>\n",
              "            <td>terhi.hamalainen@apple.fi</td>\n",
              "        </tr>\n",
              "        <tr>\n",
              "            <td>ladislav_kovacs@apple.hu</td>\n",
              "        </tr>\n",
              "        <tr>\n",
              "            <td>hughoreilly@apple.ie</td>\n",
              "        </tr>\n",
              "    </tbody>\n",
              "</table>"
            ]
          },
          "metadata": {},
          "execution_count": 5
        }
      ],
      "source": [
        "# Utilizada a função LIKE para localizar todos os domínios de Email que contém a palavra @apple\n",
        "%%sql\n",
        "SELECT Email FROM Customer WHERE Email LIKE '%@apple%';"
      ]
    }
  ],
  "metadata": {
    "kernelspec": {
      "display_name": "Python 3 (ipykernel)",
      "language": "python",
      "name": "python3"
    },
    "language_info": {
      "codemirror_mode": {
        "name": "ipython",
        "version": 3
      },
      "file_extension": ".py",
      "mimetype": "text/x-python",
      "name": "python",
      "nbconvert_exporter": "python",
      "pygments_lexer": "ipython3",
      "version": "3.7.9"
    },
    "colab": {
      "name": "notebook_challenge_001_level1.ipynb",
      "provenance": []
    }
  },
  "nbformat": 4,
  "nbformat_minor": 5
}