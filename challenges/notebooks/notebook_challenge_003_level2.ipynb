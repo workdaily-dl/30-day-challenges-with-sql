{
  "cells": [
    {
      "cell_type": "markdown",
      "id": "ca98cf18",
      "metadata": {
        "id": "ca98cf18"
      },
      "source": [
        "\n",
        "# Por favor tente resolver o desafio sozinho, não pegue atalhos, tu consegue, é só colocar a cabeça para funcionar."
      ]
    },
    {
      "cell_type": "markdown",
      "id": "c0032015",
      "metadata": {
        "id": "c0032015"
      },
      "source": [
        "Execute a célula abaixo apenas uma vez."
      ]
    },
    {
      "cell_type": "code",
      "execution_count": 1,
      "id": "1b11fc2f",
      "metadata": {
        "colab": {
          "base_uri": "https://localhost:8080/"
        },
        "id": "1b11fc2f",
        "outputId": "3140e2be-ad74-4565-e463-9e42dfd514ef"
      },
      "outputs": [
        {
          "output_type": "stream",
          "name": "stderr",
          "text": [
            "Cloning into '30-day-challenges-with-sql'...\n"
          ]
        }
      ],
      "source": [
        "%%bash\n",
        "\n",
        "rm -rf /tmp/github; mkdir -p /tmp/github; cd /tmp/github\n",
        "git clone https://github.com/romeritomorais/30-day-challenges-with-sql.git\n",
        "sh /tmp/github/30-day-challenges-with-sql/challenges/utils/install-miniconda.sh > /dev/null 2>&1\n",
        "sh /tmp/github/30-day-challenges-with-sql/challenges/utils/update-miniconda.sh > /dev/null 2>&1"
      ]
    },
    {
      "cell_type": "markdown",
      "id": "b693bdbd",
      "metadata": {
        "id": "b693bdbd"
      },
      "source": [
        "Neste desafio super fácil, precisamos da contagem dos dados da coluna `Customer.City` onde a contagem é >= a 2 linhas e por ordem alfabetica. \n",
        "\n",
        "resultado esperado:  \n",
        "\n",
        "| City | numero_de_linhas \n",
        "|--------------:|--------------\n",
        "| Berlin        |          2                  \n",
        "| London        |          2                  \n",
        "| Mountain View |          2                      \n",
        "| Paris         |          2                \n",
        "| Prague        |          2                \n",
        "| São Paulo     |          2   \n",
        "\n",
        "Na célula onde se encontra o `%%sql`, escreva sua query, sem deletar o comando. Exemplo:  \n",
        "```python\n",
        "%%sql\n",
        "select * from Customer\n",
        "```\n",
        "\n",
        "Para resolução utilize a documentação do sqlite:https://www.sqlite.org/docs.html"
      ]
    },
    {
      "cell_type": "code",
      "execution_count": 2,
      "id": "c7daa6e5",
      "metadata": {
        "colab": {
          "base_uri": "https://localhost:8080/",
          "height": 35
        },
        "id": "c7daa6e5",
        "outputId": "52a982de-c148-4f99-a8a1-d2dc2fe962f6"
      },
      "outputs": [
        {
          "output_type": "execute_result",
          "data": {
            "text/plain": [
              "'Connected: @//tmp/github/30-day-challenges-with-sql/challenges/utils/db/database.db'"
            ],
            "application/vnd.google.colaboratory.intrinsic+json": {
              "type": "string"
            }
          },
          "metadata": {},
          "execution_count": 2
        }
      ],
      "source": [
        "%load_ext sql\n",
        "%sql sqlite://///tmp/github/30-day-challenges-with-sql/challenges/utils/db/database.db"
      ]
    },
    {
      "cell_type": "code",
      "execution_count": 10,
      "id": "cfae8a63",
      "metadata": {
        "colab": {
          "base_uri": "https://localhost:8080/",
          "height": 203
        },
        "id": "cfae8a63",
        "outputId": "f4ba8cb2-a4a4-4a09-a580-89914f8f95c1"
      },
      "outputs": [
        {
          "output_type": "stream",
          "name": "stdout",
          "text": [
            " * sqlite://///tmp/github/30-day-challenges-with-sql/challenges/utils/db/database.db\n",
            "Done.\n"
          ]
        },
        {
          "output_type": "execute_result",
          "data": {
            "text/plain": [
              "[('Berlin', 2),\n",
              " ('London', 2),\n",
              " ('Mountain View', 2),\n",
              " ('Paris', 2),\n",
              " ('Prague', 2),\n",
              " ('São Paulo', 2)]"
            ],
            "text/html": [
              "<table>\n",
              "    <thead>\n",
              "        <tr>\n",
              "            <th>City</th>\n",
              "            <th>numero_de_linhas</th>\n",
              "        </tr>\n",
              "    </thead>\n",
              "    <tbody>\n",
              "        <tr>\n",
              "            <td>Berlin</td>\n",
              "            <td>2</td>\n",
              "        </tr>\n",
              "        <tr>\n",
              "            <td>London</td>\n",
              "            <td>2</td>\n",
              "        </tr>\n",
              "        <tr>\n",
              "            <td>Mountain View</td>\n",
              "            <td>2</td>\n",
              "        </tr>\n",
              "        <tr>\n",
              "            <td>Paris</td>\n",
              "            <td>2</td>\n",
              "        </tr>\n",
              "        <tr>\n",
              "            <td>Prague</td>\n",
              "            <td>2</td>\n",
              "        </tr>\n",
              "        <tr>\n",
              "            <td>São Paulo</td>\n",
              "            <td>2</td>\n",
              "        </tr>\n",
              "    </tbody>\n",
              "</table>"
            ]
          },
          "metadata": {},
          "execution_count": 10
        }
      ],
      "source": [
        "# Utilizado a função de agregação COUNT() para verificar a repetição das cidades, AS para renomear o COUNT(), GROUP BY para a agregação \n",
        "# e clausula HAVING para filtar cidades que se repetem 2 ou mais vezes.\n",
        "%%sql\n",
        "SELECT City, COUNT(City) AS numero_de_linhas \n",
        "FROM Customer\n",
        "GROUP BY City \n",
        "HAVING numero_de_linhas >= 2;\n"
      ]
    }
  ],
  "metadata": {
    "kernelspec": {
      "display_name": "Python 3 (ipykernel)",
      "language": "python",
      "name": "python3"
    },
    "language_info": {
      "codemirror_mode": {
        "name": "ipython",
        "version": 3
      },
      "file_extension": ".py",
      "mimetype": "text/x-python",
      "name": "python",
      "nbconvert_exporter": "python",
      "pygments_lexer": "ipython3",
      "version": "3.7.9"
    },
    "colab": {
      "name": "notebook_challenge_003_level2.ipynb",
      "provenance": []
    }
  },
  "nbformat": 4,
  "nbformat_minor": 5
}